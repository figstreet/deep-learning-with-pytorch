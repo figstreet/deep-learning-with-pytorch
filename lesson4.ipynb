{
 "cells": [
  {
   "cell_type": "markdown",
   "metadata": {},
   "source": [
    "# Subjectivity classification with CNNs"
   ]
  },
  {
   "cell_type": "markdown",
   "metadata": {},
   "source": [
    "In this notebook we implement the approched described in this [paper](https://arxiv.org/pdf/1408.5882.pdf) for classifiying sentences using Convolutional Neural Networks. In particular, we will classify sentences into \"subjective\" or \"objective\". "
   ]
  },
  {
   "cell_type": "markdown",
   "metadata": {},
   "source": [
    "## Subjectivity Dataset"
   ]
  },
  {
   "cell_type": "markdown",
   "metadata": {},
   "source": [
    "The subjectivity dataset has 5000 subjective and 5000 objective processed sentences. To get the data:\n",
    "```\n",
    "wget http://www.cs.cornell.edu/people/pabo/movie-review-data/rotten_imdb.tar.gz\n",
    "```"
   ]
  },
  {
   "cell_type": "code",
   "execution_count": 1,
   "metadata": {},
   "outputs": [
    {
     "data": {
      "text/plain": [
       "[PosixPath('/Users/yinterian/teaching/deeplearning/data/rotten_imdb/glove.6B.100d.txt'),\n",
       " PosixPath('/Users/yinterian/teaching/deeplearning/data/rotten_imdb/glove.6B.200d.txt'),\n",
       " PosixPath('/Users/yinterian/teaching/deeplearning/data/rotten_imdb/glove.6B.300d.txt'),\n",
       " PosixPath('/Users/yinterian/teaching/deeplearning/data/rotten_imdb/glove.6B.50d.txt'),\n",
       " PosixPath('/Users/yinterian/teaching/deeplearning/data/rotten_imdb/glove.6B.zip'),\n",
       " PosixPath('/Users/yinterian/teaching/deeplearning/data/rotten_imdb/plot.tok.gt9.5000'),\n",
       " PosixPath('/Users/yinterian/teaching/deeplearning/data/rotten_imdb/quote.tok.gt9.5000'),\n",
       " PosixPath('/Users/yinterian/teaching/deeplearning/data/rotten_imdb/rotten_imdb.tar'),\n",
       " PosixPath('/Users/yinterian/teaching/deeplearning/data/rotten_imdb/subjdata.README.1.0')]"
      ]
     },
     "execution_count": 1,
     "metadata": {},
     "output_type": "execute_result"
    }
   ],
   "source": [
    "from pathlib import Path\n",
    "PATH = Path(\"/Users/yinterian/teaching/deeplearning/data/rotten_imdb/\")\n",
    "list(PATH.iterdir())"
   ]
  },
  {
   "cell_type": "markdown",
   "metadata": {},
   "source": [
    "From the readme file:\n",
    "- quote.tok.gt9.5000 contains 5000 subjective sentences (or snippets)\n",
    "- plot.tok.gt9.5000 contains 5000 objective sentences"
   ]
  },
  {
   "cell_type": "code",
   "execution_count": 2,
   "metadata": {},
   "outputs": [
    {
     "name": "stdout",
     "output_type": "stream",
     "text": [
      "the movie begins in the past where a young boy named sam attempts to save celebi from a hunter . \r\n",
      "emerging from the human psyche and showing characteristics of abstract expressionism , minimalism and russian constructivism , graffiti removal has secured its place in the history of modern art while being created by artists who are unconscious of their artistic achievements . \r\n",
      "spurning her mother's insistence that she get on with her life , mary is thrown out of the house , rejected by joe , and expelled from school as she grows larger with child . \r\n",
      "amitabh can't believe the board of directors and his mind is filled with revenge and what better revenge than robbing the bank himself , ironic as it may sound . \r\n",
      "she , among others excentricities , talks to a small rock , gertrude , like if she was alive . \r\n",
      "this gives the girls a fair chance of pulling the wool over their eyes using their sexiness to poach any last vestige of common sense the dons might have had . \r\n",
      "styled after vh1's \" behind the music , \" this mockumentary profiles the rise and fall of an internet startup , called icevan . com . \r\n",
      "being blue is not his only predicament ; he also lacks the ability to outwardly express his emotions . \r\n",
      "the killer's clues are a perversion of biblical punishments for sins : stoning , burning , decapitation . \r\n",
      "david is a painter with painter's block who takes a job as a waiter to get some inspiration . \r\n"
     ]
    }
   ],
   "source": [
    "! head /Users/yinterian/teaching/deeplearning/data/rotten_imdb/plot.tok.gt9.5000"
   ]
  },
  {
   "cell_type": "markdown",
   "metadata": {},
   "source": [
    "## String cleaning functions"
   ]
  },
  {
   "cell_type": "code",
   "execution_count": 3,
   "metadata": {
    "collapsed": true
   },
   "outputs": [],
   "source": [
    "import numpy as np\n",
    "from collections import defaultdict\n",
    "import re"
   ]
  },
  {
   "cell_type": "code",
   "execution_count": 4,
   "metadata": {
    "collapsed": true
   },
   "outputs": [],
   "source": [
    "# this is from https://github.com/yoonkim/CNN_sentence/blob/master/process_data.py\n",
    "def clean_str(string):\n",
    "    \"\"\"Tokenization/string cleaning. \"\"\"\n",
    "    string = re.sub(r\"[^A-Za-z0-9(),!?\\'\\`]\", \" \", string)     \n",
    "    string = re.sub(r\"\\'s\", \" \\'s\", string) \n",
    "    string = re.sub(r\"\\'ve\", \" \\'ve\", string) \n",
    "    string = re.sub(r\"n\\'t\", \" n\\'t\", string) \n",
    "    string = re.sub(r\"\\'re\", \" \\'re\", string) \n",
    "    string = re.sub(r\"\\'d\", \" \\'d\", string) \n",
    "    string = re.sub(r\"\\'ll\", \" \\'ll\", string) \n",
    "    string = re.sub(r\",\", \" , \", string) \n",
    "    string = re.sub(r\"!\", \" ! \", string) \n",
    "    string = re.sub(r\"\\(\", \" \\( \", string) \n",
    "    string = re.sub(r\"\\)\", \" \\) \", string) \n",
    "    string = re.sub(r\"\\?\", \" \\? \", string) \n",
    "    string = re.sub(r\"\\s{2,}\", \" \", string)    \n",
    "    return string.strip().lower()"
   ]
  },
  {
   "cell_type": "code",
   "execution_count": 5,
   "metadata": {
    "collapsed": true
   },
   "outputs": [],
   "source": [
    "def read_file(path):\n",
    "    \"\"\" Read file returns a shuttled list.\n",
    "    \"\"\"\n",
    "    with open(path, encoding = \"ISO-8859-1\") as f:\n",
    "        content = np.array(f.readlines())\n",
    "    return content"
   ]
  },
  {
   "cell_type": "code",
   "execution_count": 6,
   "metadata": {
    "collapsed": true
   },
   "outputs": [],
   "source": [
    "def get_vocab(list_of_content):\n",
    "    \"\"\"Computes Dict of counts of words.\n",
    "    \n",
    "    Computes the number of times a word is on a document.\n",
    "    \"\"\"\n",
    "    vocab = defaultdict(float)\n",
    "    for content in list_of_content:\n",
    "        for line in content:\n",
    "            line = clean_str(line.strip())\n",
    "            words = set(line.split())\n",
    "            for word in words:\n",
    "                vocab[word] += 1\n",
    "    return vocab       "
   ]
  },
  {
   "cell_type": "markdown",
   "metadata": {},
   "source": [
    "## Split train and test"
   ]
  },
  {
   "cell_type": "code",
   "execution_count": 7,
   "metadata": {
    "collapsed": true
   },
   "outputs": [],
   "source": [
    "sub_content = read_file(PATH/\"quote.tok.gt9.5000\")\n",
    "obj_content = read_file(PATH/\"plot.tok.gt9.5000\")\n",
    "sub_content = np.array([clean_str(line.strip()) for line in sub_content])\n",
    "obj_content = np.array([clean_str(line.strip()) for line in obj_content])\n",
    "sub_y = np.zeros(len(sub_content))\n",
    "obj_y = np.ones(len(obj_content))\n",
    "X = np.append(sub_content, obj_content)\n",
    "y = np.append(sub_y, obj_y)"
   ]
  },
  {
   "cell_type": "code",
   "execution_count": 8,
   "metadata": {
    "collapsed": true
   },
   "outputs": [],
   "source": [
    "from sklearn.model_selection import train_test_split"
   ]
  },
  {
   "cell_type": "code",
   "execution_count": 9,
   "metadata": {
    "collapsed": true
   },
   "outputs": [],
   "source": [
    "X_train, X_test, y_train, y_test = train_test_split(X, y, test_size=0.2, random_state=42)"
   ]
  },
  {
   "cell_type": "code",
   "execution_count": 10,
   "metadata": {},
   "outputs": [
    {
     "data": {
      "text/plain": [
       "(array(['will god let her fall or give her a new path \\\\?',\n",
       "        \"the director 's twitchy sketchbook style and adroit perspective shifts grow wearisome amid leaden pacing and indifferent craftsmanship \\\\( most notably wretched sound design \\\\)\",\n",
       "        \"welles groupie scholar peter bogdanovich took a long time to do it , but he 's finally provided his own broadside at publishing giant william randolph hearst\",\n",
       "        'based on the 1997 john king novel of the same name with a rather odd synopsis a first novel about a seasoned chelsea football club hooligan who represents a disaffected society operating by brutal rules',\n",
       "        'yet , beneath an upbeat appearance , she is struggling desperately with the emotional and physical scars left by the attack'],\n",
       "       dtype='<U679'), array([1., 0., 0., 1., 1.]))"
      ]
     },
     "execution_count": 10,
     "metadata": {},
     "output_type": "execute_result"
    }
   ],
   "source": [
    "X_train[:5], y_train[:5]"
   ]
  },
  {
   "cell_type": "code",
   "execution_count": 107,
   "metadata": {
    "collapsed": true
   },
   "outputs": [],
   "source": [
    "# getting vocab from training sets\n",
    "data_vocab = get_vocab([X_train])"
   ]
  },
  {
   "cell_type": "code",
   "execution_count": 101,
   "metadata": {
    "collapsed": true
   },
   "outputs": [],
   "source": [
    "#data_vocab"
   ]
  },
  {
   "cell_type": "markdown",
   "metadata": {},
   "source": [
    "## Embedding Layer"
   ]
  },
  {
   "cell_type": "code",
   "execution_count": 14,
   "metadata": {
    "collapsed": true
   },
   "outputs": [],
   "source": [
    "import torch\n",
    "import torch.nn as nn\n",
    "import torch.nn.functional as F"
   ]
  },
  {
   "cell_type": "code",
   "execution_count": 15,
   "metadata": {},
   "outputs": [
    {
     "data": {
      "text/plain": [
       "tensor([[[-0.5333,  0.7776, -1.2749],\n",
       "         [ 0.6352, -1.5186,  1.0346],\n",
       "         [-0.2285,  0.1224, -1.9241],\n",
       "         [ 1.2994, -1.6922,  1.8019],\n",
       "         [-0.5333,  0.7776, -1.2749]]])"
      ]
     },
     "execution_count": 15,
     "metadata": {},
     "output_type": "execute_result"
    }
   ],
   "source": [
    "# an Embedding module containing 10 (words) tensors of size 3\n",
    "embed = nn.Embedding(10, 3)\n",
    "a = torch.LongTensor([[1,2,4,5,1]])\n",
    "embed(a)"
   ]
  },
  {
   "cell_type": "code",
   "execution_count": 16,
   "metadata": {},
   "outputs": [
    {
     "data": {
      "text/plain": [
       "tensor([[ 0.9265, -0.1933,  1.3762],\n",
       "        [-0.5333,  0.7776, -1.2749],\n",
       "        [ 0.6352, -1.5186,  1.0346],\n",
       "        [-1.1091,  0.4668,  0.3990],\n",
       "        [-0.2285,  0.1224, -1.9241],\n",
       "        [ 1.2994, -1.6922,  1.8019],\n",
       "        [-0.2287,  1.5780, -0.3959],\n",
       "        [ 0.3668, -0.6783,  0.3945],\n",
       "        [ 0.7854,  1.9058, -0.8052],\n",
       "        [ 0.7321, -1.2108,  0.5928]])"
      ]
     },
     "execution_count": 16,
     "metadata": {},
     "output_type": "execute_result"
    }
   ],
   "source": [
    "## here is the randomly initialized embeddings\n",
    "embed.weight.data"
   ]
  },
  {
   "cell_type": "markdown",
   "metadata": {},
   "source": [
    "### Initializing embedding layer with Glove embeddings"
   ]
  },
  {
   "cell_type": "markdown",
   "metadata": {},
   "source": [
    "To get glove pre-trained embeddings:\n",
    "    `wget http://nlp.stanford.edu/data/glove.6B.zip`"
   ]
  },
  {
   "cell_type": "markdown",
   "metadata": {},
   "source": [
    "In this section I am keeping the whole Glove embeddings. You can decide to keep just the words on your training set."
   ]
  },
  {
   "cell_type": "code",
   "execution_count": 18,
   "metadata": {},
   "outputs": [
    {
     "name": "stdout",
     "output_type": "stream",
     "text": [
      "the 0.418 0.24968 -0.41242 0.1217 0.34527 -0.044457 -0.49688 -0.17862 -0.00066023 -0.6566 0.27843 -0.14767 -0.55677 0.14658 -0.0095095 0.011658 0.10204 -0.12792 -0.8443 -0.12181 -0.016801 -0.33279 -0.1552 -0.23131 -0.19181 -1.8823 -0.76746 0.099051 -0.42125 -0.19526 4.0071 -0.18594 -0.52287 -0.31681 0.00059213 0.0074449 0.17778 -0.15897 0.012041 -0.054223 -0.29871 -0.15749 -0.34758 -0.045637 -0.44251 0.18785 0.0027849 -0.18411 -0.11514 -0.78581\r\n",
      ", 0.013441 0.23682 -0.16899 0.40951 0.63812 0.47709 -0.42852 -0.55641 -0.364 -0.23938 0.13001 -0.063734 -0.39575 -0.48162 0.23291 0.090201 -0.13324 0.078639 -0.41634 -0.15428 0.10068 0.48891 0.31226 -0.1252 -0.037512 -1.5179 0.12612 -0.02442 -0.042961 -0.28351 3.5416 -0.11956 -0.014533 -0.1499 0.21864 -0.33412 -0.13872 0.31806 0.70358 0.44858 -0.080262 0.63003 0.32111 -0.46765 0.22786 0.36034 -0.37818 -0.56657 0.044691 0.30392\r\n"
     ]
    }
   ],
   "source": [
    "! head -2 /Users/yinterian/teaching/deeplearning/data/rotten_imdb/glove.6B.50d.txt"
   ]
  },
  {
   "cell_type": "markdown",
   "metadata": {},
   "source": [
    "We would like to initialize the embeddings from our model with the pre-trained Glove embeddings. After initializing we should \"freeze\" the embeddings at least initially. The rationale is that we first want the network to learn weights for the other parameters that were randomly initialize. After that phase we could finetune the embeddings to our task. \n",
    "\n",
    "`embed.weight.requires_grad = False` freezes the embedding parameters."
   ]
  },
  {
   "cell_type": "markdown",
   "metadata": {},
   "source": [
    "The following code initializes the embedding. Here `V` is the vocabulary size and `D` is the embedding size. `pretrained_weight` is a numpy matrix of shape `(V, D)`."
   ]
  },
  {
   "cell_type": "code",
   "execution_count": 19,
   "metadata": {
    "collapsed": true
   },
   "outputs": [],
   "source": [
    "def loadGloveModel(gloveFile=PATH/\"glove.6B.300d.txt\"):\n",
    "    \"\"\" Loads word vectors into a dictionary.\"\"\"\n",
    "    f = open(gloveFile,'r')\n",
    "    word_vecs = {}\n",
    "    for line in f:\n",
    "        splitLine = line.split()\n",
    "        word = splitLine[0]\n",
    "        word_vecs[word] = np.array([float(val) for val in splitLine[1:]])\n",
    "    return word_vecs"
   ]
  },
  {
   "cell_type": "code",
   "execution_count": 20,
   "metadata": {
    "collapsed": true
   },
   "outputs": [],
   "source": [
    "word_vecs = loadGloveModel()"
   ]
  },
  {
   "cell_type": "code",
   "execution_count": 21,
   "metadata": {},
   "outputs": [
    {
     "name": "stdout",
     "output_type": "stream",
     "text": [
      "400000 19310\n"
     ]
    }
   ],
   "source": [
    "print(len(word_vecs.keys()), len(data_vocab.keys()))"
   ]
  },
  {
   "cell_type": "code",
   "execution_count": 159,
   "metadata": {
    "collapsed": true
   },
   "outputs": [],
   "source": [
    "def delete_rare_words(word_vecs, data_vocab, min_df=2):\n",
    "    \"\"\" Deletes rare words from data_vocab\n",
    "    \n",
    "    Deletes words from data_vocab if they are not in word_vecs\n",
    "    and don't have at least min_df occurrencies in data_vocab.\n",
    "    \"\"\"\n",
    "    words_delete = []\n",
    "    for word in data_vocab:\n",
    "        if data_vocab[word] < min_df and word not in word_vecs:\n",
    "            words_delete.append(word)\n",
    "    print(words_delete)\n",
    "    for word in words_delete: data_vocab.pop(word)\n",
    "    return data_vocab"
   ]
  },
  {
   "cell_type": "code",
   "execution_count": 160,
   "metadata": {},
   "outputs": [
    {
     "data": {
      "text/plain": [
       "19310"
      ]
     },
     "execution_count": 160,
     "metadata": {},
     "output_type": "execute_result"
    }
   ],
   "source": [
    "len(data_vocab.keys())"
   ]
  },
  {
   "cell_type": "code",
   "execution_count": 161,
   "metadata": {},
   "outputs": [
    {
     "name": "stdout",
     "output_type": "stream",
     "text": [
      "[\"ragam'\", \"'mouna\", 'maniratnam', \"'alaipayuthe'\", \"'pound\", \"flesh'\", 'glizty', \"'top\", 'zidanes', \"meyjes'\", 'haphazardness', 'sepideh', 'oddyssey', 'kervorkian', 'pretention', 'reconceptualize', 'cletis', 'kxch', 'montains', 'crowdpleaser', \"'sy'\", 'odete', 'edgaar', 'discoveres', 'techweb', \"'it\", 'nohe', \"'stolen\", 'mandalorians', 'talkiness', 'shakesperean', 'falsly', \"'special\", \"effects'\", \"'searching\", 'relatability', \"spears'\", 'saindo', 'dinheiro', 'piada', 'desgruda', 'gastou', 'encerra', 'meitlemeihr', \"'smersh'\", 'mutiple', 'proje', 'ningu', 'rmino', 'lhe', 'covardia', 'preocupe', 'necessidade', 'simbolizando', 'sciltre', 'verveen', 'captivatingly', \"maenads'\", \"'stages'\", \"'extreme'\", \"chill'\", \"'deliverance'\", 'unsurface', 'bauford', \"'how\", 'overmanipulative', 'unconned', \"girls'\", 'garmento', 'emotively', 'reeboir', \"'gentle'\", 'numerobis', \"'my\", \"bickle'\", 'pendance', 'bengtzon', 'maenwhile', 'shahirah', 'palnet', 'dreamplace', 'scyther', 'talisac', 'lucidique', 'mongroid', 'problemo', \"'studying'\", 'gaidry', 'dogwalking', 'geneviere', \"collaborators'\", 'nonpatronizing', 'tubbing', \"'pie\", 'tildy', \"face'\", 'jureczek', 'thumpingly', 'foreighn', 'meanspirited', \"powers'\", 'tronald', 'gorefests', 'vostrikov', 'superlarge', \"'get\", \"nailed'\", \"publics'\", 'calota', 'humilate', 'girldfriend', 'achronological', 'organizar', 'verbenesca', 'rcito', 'colocaba', 'disyuntiva', 'busc', 'surfacey', 'gwai', \"'issues'\", \"jennings'\", 'energico', \"this'\", \"'let\", \"with'\", \"actors'\", 'cutural', 'devilin', 'roteirista', 'sequer', 'direto', 'consegue', 'aproveitar', 'respons', 'mediocridade', 'escapa', 'pouqu', 'ssimos', \"'art\", \"stico'\", \"'ten\", \"indians'\", \"'rope'\", 'softwipe', 'porceline', 'toliet', \"'life'\", 'dieing', 'scripters', \"boy'\", \"'bad\", 'dumbfoundingly', 'suntzu', \"'earn'\", 'vicous', \"fathers'\", 'eaida', 'mutagenically', 'fernier', 'cupic', 'hillevi', \"worlds'\", \"'tonight\", 'pentita', 'furmann', \"'scooby'\", 'condundrum', 'visuales', 'heimisch', 'stumblings', \"nicholas'\", \"sneaky'\", \"'very\", \"russos'\", \"dreyfuss'\", \"states'\", 'distince', 'bouty', 'ascapes', \"following'\", \"'sure\", 'fiece', 'smashups', 'krensler', 'apolitically', \"'getting\", \"had'\", \"ross'\", \"'glengarry\", 'salenger', 'crappola', 'quikly', 'prozium', 'strafings', 'froms', 'upons', \"'blonde\", \"goddess'\", 'romonovs', 'actioners', \"'nature'\", \"thomas'\", 'fortell', 's1m0ne', \"jazz'\", 'petards', 'perrini', \"lewis'\", \"'catch\", 'makaki', 'verbosely', \"'scratch'\", \"lilly'\", 'paradiset', 'flakeball', 'traing', 'kinneson', \"flicks'\", \"'chick\", 'forcinito', \"wolf'\", 'koterski', 'miauczynski', \"neighbours'\", \"'perverted\", 'bondish', 'komediant', 'despande', 'makrand', 'dattu', 'rajayya', \"'sinker'\", \"'de\", \"'scream\", \"thing'\", \"'wait'\", 'hellstenius', \"ss'\", \"morris'\", \"'blue\", \"crush'\", 'mischevious', 'gheorgiu', 'vandeva', 'terminaor', 'terminatrix', 'fooey', 'mudbloods', 'superfoot', 'inmigration', 'tilyou', 'necklages', 'ourside', 'deadeningly', 'undeterminable', 'nukui', 'passionada', 'maxto', 'phileine', \"knowles'\", \"body'\", \"'some\", 'separtists', 'poontang', \"'truth'\", 'kuhaulua', 'slytherins', 'dogwalker', 'memorbale', \"'anime'\", 'adison', 'overplotted', 'holofcenter', 'watstein', 'powaqqatsi', \"robberies'\", \"'monsters'\", 'thingfs', 'nticas', 'delicia', 'sincera', 'enternecedora', \"'divertida\", 'bustingly', \"'loosely\", 'mothlike', \"'comedy'\", 'vapoorizer', \"'fun\", \"games'\", 'hubac', 'siuation', \"out'\", \"'selling\", \"carlos'\", \"helms'\", 'courageousness', 'baaaaaaaaad', 'klatretosen', 'pulizter', \"h20'\", \"'halloween\", \"'track\", 'sheerly', \"'tradition\", 'hairsalon', \"'news'\", \"'characters\", \"'going\", \"drink'\", \"'precious'\", 'jackunas', \"singin'\", \"dancin'\", 'housesit', 'russos', \"stephens'\", 'colocar', 'andamento', 'acontecimentos', 'esfor', 'diretor', 'frustrado', 'roteiro', 'perde', 'instante', 'explicados', 'estranhos', 'faramundi', \"picture'\", \"'best\", \"'lovely\", \"'realness'\", \"guy'\", \"'perfect\", \"know'\", \"'one\", 'misencounters', 'tribles', 'presentador', 'bigardo', 'empiezan', 'masas', 'convertirlo', \"'easier'\", 'sucessfull', 'routinity', 'pqd', 'unhibited', \"'naturalistic'\", '8763', 'guzm', 'secretart', 'sardarji', 'paaji', \"rings'\", \"silmarillion'\", \"hobbit'\", 'twillstein', \"rollers'\", \"'frankly\", \"'topless\", 'ghagte', 'bitsey', \"'life\", \"affirming'\", \"'schmaltzy\", 'plauged', 'surviors', 'brumder', 'disfunctional', \"numbers'\", \"'murder\", '20john', 'plotpar', \"movies'\", \"economy'\", 'deafaning', \"'problem'\", 'vaneer', 'qatsi', 'druden', 'naxalisam', \"'if\", 'kaurism', 'bruoght', 'youht', \"times'\", \"ladies'\", \"'evelyn\", 'rapsploitation', \"'plain'\", \"'businessman'\", 'instituton', 'charmont', 'soaringly', 'nglio', \"companies'\", 'lemle', \"'grasp'\", 'runteldat', 'emotiva', 'sumamente', 'lmica', \"olvidar'\", 'actuada', \"'estupendamente\", 'heartwarmingly', 'derisions', \"'cq\", 'cyberlink', 'sintawan', \"city'\", 'telganan', \"ideas'\", 'schticky', 'hanareh', 'cirulnick', 'petser', 'sruggling', 'yakavetta', 'nightscape', \"'arroz\", \"mango'\", 'possesed', 'franticly', 'mothmen', \"sea'\", 'masterpeice', \"'fable'\", 'persued', 'apesar', 'maneira', 'chamado', \"subjects'\", 'knoxvile', 'daed', 'vehcile', \"'night\", \"couch'\", \"'casting\", \"'reason'\", \"link'\", \"'missing\", \"'subject'\", \"x'er\", 'koishi', 'corruptability', 'markowe', \"cinema'\", 'multipartner', \"swingers'\", 'dullingly', 'serrious', \"hillbillies'\", \"waster'\", \"'time\", 'wonderous', 'agashe', 'tryingly', 'lzli', 'breheny', 'brittish', 'mibii', \"'slackers'\", \"'terrorists'\", \"'anthony\", \"hopkins'\", \"'chris\", 'poho', 'flesheating', \"cache'\", 'blinddate', \"hope'\", \"'great\", 'mation', 'clycops', 'asiaphiles', 'clerick', 'marcellius', 'danisworo', \"'full\", \"frontal'\", \"sands'\", 'maricarmen', \"haynes'\", \"euripides'\", \"ai'\", \"'twist'\", 'vunerable', 'preserverence', 'juicily', \"'chan\", \"moment'\", 'ronwell', \"davis'\", 'townlet', 'rlichs', 'reeses', 'adamsom', 'undauntedly', 'olham', \"'belgium\", 'migt', \"others'\", 'cinemantic', 'inhospitability', \"comedy'\", \"'romantic\", 'paccard', 'marlovian', \"'boys'\", 'pridefilled', 'buonardi', 'untugged', 'unplundered', \"'alternate\", \"reality'\", 'grossu', 'braceface', \"movie'\", \"'date\", 'guessable', 'weasly', \"viewers'\", 'geuvara', 'unfortunatly', 'theives', 'goire', 'coleston', 'desperatly', 'awarenesses', 'sonneveld', \"nothin'\", \"'hungry\", \"bad'\", 'pepey', \"'they\", 'crapulence', 'silbersteins', 'locaction', 'inquestion', 'papai', 'fato', 'estava', 'toolbags', \"'truth\", 'fabbrizio', 'deamons', 'corperate', 'elizabethean', 'yorgi', \"'woods'\", 'sienkewicz', \"'hood\", 'recoing', 'bizzarre', 'nouement', 'zelnicker', 'gharid', 'tislam', 'excentricities', \"other'\", \"'insignificant\", \"'vain'\", 'tigge', 'viewpointe', 'underdramatized', 'shapelessly', 'cribsheet', \"revenge'\", \"'montezuma\", \"gibbs'\", 'engross', 'superheroics', 'thekids', 'achival', 'costumey', \"cryin'\", 'pesimismo', 'patatas', 'verm', 'mendigando', \"cristo'\", 'fantisizing', \"'return\", \"land'\", \"snipes'\", 'esoterical', 'unassuageable', \"eaters'\", 'undermedicated', 'naivet', \"deeds'\", 'qualit', \"jesus'\", \"'mrs\", \"'hosts'\", \"'guests\", 'hastier', 'barrum', 'brillance', 'mondavarious', \"'bold'\", \"'paradise\", \"casino'\", 'kannas', \"'difficult'\", 'recieves', \"'videodrome\", 'crummles', 'reilhac', \"n'\", 'cofee', \"'love\", 'plumerai', 'likableness', 'bergmanesque', \"cockettes'\", 'unawakened', 'edkvist', \"rock'\", 'tardier', 'amoses', 'sprechers', 'yellowshirt', 'adhiswara', \"'bloody\", \"magic'\", 'consigliori', 'defino', 'brassaurd', 'wisegirls', \"'drip'\", 'marchelletta', 'zimmett', 'patrcik', 'townsperson', 'cherises', 'weightwatch', 'amold', 'nevertherless', 'purlined', 'koilos', 'unexperimented', \"that'\", \"'been\", 'neihouse', \"series'\", \"'gammasphere'\", \"stiles'\", 'diverte', \"perdido'\", \"'atlantis\", \"o'\", \"'o\", \"imperador'\", 'cansa', 'feeing', 'verit', '8217', \"dragon'\", 'podbielska', 'obessive', \"'fatal\", 'pulpiness', \"waiting'\", \"'while\", \"d'onfronio\", 'unforgivingly', \"'post\", \"feminist'\", 'arpid', 'fufill', 'trixter', \"'interesting'\", 'portokalos', 'roisterous', \"'enough'\", \"legends'\", 'em3', 'aceitou', 'esquerdo', 'decidiram', 'assistir', 'aqueles', \"'jackie'\", \"'small'\", 'seguramente', 'lealtad', 'traici', 'assitant', 'funciones', 'posici', 'ncipe', 'encontraba', 'agonizaba', 'afrontar', \"ellis'\", \"producers'\", 'fererra', 'thons', 'dridi', 'blighter', \"press'\", 'zishe', 'clamdandy', 'sannah', 'fantazises', \"goes'\", 'yhf', \"jones'\", 'berahi', 'mendam', 'egde', 'profitting', 'crimelord', 'gildemontes', \"'alabama'\", 'aravasu', 'janklowicz', \"'safe\", \"'brazil\", \"'amateur'\", 'bottomlessly', \"'manhunter'\", 'jash', 'meaningness', \"sunflowers'\", 'beautiness', \"'phantom\", \"menace'\", 'junnie', 'majandra', \"'starchildren'\", \"imagination'\", \"'dimension\", 'inmigrants', 'asainst', 'removalist', 'margr', 'lmsd', 'ttir', 'vilhj', 'rikhard', 'excrescence', 'shiftlessness', \"'perfection\", \"'edgy\", 'copyof', 'godfater', \"'drumline'\", \"'refreshing\", 'fillm', 'inlove', 'idoosyncratic', \"'splitting'\", 'utilizar', 'mesmos', 'havia', 'abandone', 'satirizado', 'cameoing', 'tonho', 'bomtempo', 'wollter', 'seldahl', \"'hypertime'\", 'unlived', 'aglanar', 'pullitzer', 'mondern', 'mundae', 'eigenberg', 'inconistent', 'crims', 'keiths', 'eventially', 'unimpressively', \"'wayne\", \"'garth'\", 'vampiress', 'goonyas', 'nungas', \"life'\", 'kamakiiwa', \"'laugh\", \"therapy'\", 'mouglalis', 'prechewed', 'ratmaster', \"campus'\", 'stevenon', 'fustily', \"cacoyannis'\", \"'artistically'\", \"'christian\", \"you'\", 'diferen', 'exibi', 'gosto', 'epis', 'overemphatic', 'riccola', \"'bartleby'\", \"springs'\", \"glass'\", 'swordfights', 'tergensen', 'ignor', 'rumers', 'schefberg', 'splatterfests', 'dresdenesque', 'kalesniko', 'scaped', \"vegas'\", 'lootz', 'prototypic', \"dionysus'\", \"pentheus'\", 'overstylized', 'wankery', 'cula', 'separar', 'analizar', 'criterios', 'cinematogr', 'digibeta', 'yorinks', \"people'\", \"'his\", 'kahlories', 'siapa', \"parties'\", \"brooks'\", \"mayes'\", 'kammy', \"'have\", \"holocaust'\", 'alargando', 'consiguen', 'mamood', 'unfertile', \"live'\", '`martin', 'documentry', \"video'\", \"'something'\", 'hemples', \"skins'\", \"'like\", \"gossels'\", \"'family'\", 'transfigures', \"miles'\", 'greaseballs', 'skippable', 'carnaged', 'nonchallenging', 'mcshakespeare', 'roguishly', 'familiy', 'misterious', 'sedah', 'delazo', 'enrapturing', 'francamente', 'aburrido', 'premisa', \"'ejemplo\", \"'surprises\", 'landbound', \"'is\", 'nutburger', 'ganno', \"'laughing\", \"at'\", 'actorliness', \"'lick\", 'sarraz', 'disguisey', \"'buy'\", 'frissons', \"thriller'\", 'mishappenings', \"dantes'\", 'reagles', \"'accident'\", 'donnerel', 'auteil', 'soapies', \"'we\", \"cash'\", 'geyrhalter', \"slackers'\", \"myers'\", 'tinke', 'informativos', 'captar', 'ptica', 'poblaci', 'sectas', 'saturan', 'oleadas', 'cormelos', 'vulakoro', 'trannies', 'supermomma', 'superfag', 'pistoled', 'capturou', 'roomamte', \"'get'\", 'dragonwheel', 'gavine', \"'in\", 'unflichingly', \"'blade\", \"ii'\", \"'magnifique'\", \"'sacre\", 'downview', 'carmita', 'underachieves', 'dispair', \"urge'\", \"ramirez'\", 'sugarholic', 'lizt', 'poignancies', \"few'\", 'bohos', 'shinzons', \"holmes'\", \"stevens'\", 'unentertaining', 'yahzee', 'copmovieland', 'frodes', \"manns'\", 'ykm', 'doqa', 'policiales', 'ltimos', 'stoppingly', 'cociety', 'hijinx', 'dallery', 'crishna', \"devdas'\", \"'this\", \"d'lf\", 'burgies', \"'who\", 'defeatingly', 'ansers', \"adams'\", 'stilano', 'spackneys', \"street'\", \"neighborhood'\", 'underconfident', 'bruckheimeresque', \"iles'\", 'rowdily', \"birds'\", \"'rare\", \"'sophisticated'\", \"'challenging'\", 'nitive', \"filmmaking'\", \"'terrible\", \"true'\", 'rolov', 'postgrad', 'condensada', \"'home\", '20laurie', \"'tis\", 'sanjuanera', 'divertida', 'persegui', 'estudo', 'intera', 'personagens', \"'true\", 'sulty', \"'swept\", \"away'\", 'gammasphere', \"hulk'\", 'necrophile', 'gabbiest', 'sparklingly', 'retrievie', 'revigorates', \"'qatsi'\", 'videologue', \"griffiths'\"]\n"
     ]
    }
   ],
   "source": [
    "# clean up issues here\n",
    "data_vocab = delete_rare_words(word_vecs, data_vocab, min_df=2) "
   ]
  },
  {
   "cell_type": "code",
   "execution_count": 162,
   "metadata": {},
   "outputs": [
    {
     "data": {
      "text/plain": [
       "18309"
      ]
     },
     "execution_count": 162,
     "metadata": {},
     "output_type": "execute_result"
    }
   ],
   "source": [
    "len(data_vocab.keys())"
   ]
  },
  {
   "cell_type": "code",
   "execution_count": 166,
   "metadata": {
    "collapsed": true
   },
   "outputs": [],
   "source": [
    "def create_embedding_matrix(word_vecs, data_vocab, min_df=2, D=300):\n",
    "    \"\"\"Creates embedding matrix from word vectors. \"\"\"\n",
    "    data_vocab = delete_rare_words(word_vecs, data_vocab, min_df)\n",
    "    V = len(data_vocab.keys()) + 2\n",
    "    vocab2index = {}\n",
    "    W = np.zeros((V, D), dtype=\"float32\")\n",
    "    vocab = [\"\", \"UNK\"]\n",
    "    # adding a vector for padding\n",
    "    W[0] = np.zeros(D, dtype='float32')\n",
    "    # adding a vector for rare words \n",
    "    W[1] = np.random.uniform(-0.25,0.25,D)\n",
    "    vocab2index[\"UNK\"] = 1\n",
    "    i = 2\n",
    "    for word in data_vocab:\n",
    "        if word in word_vecs:\n",
    "            W[i] = word_vecs[word]\n",
    "            vocab2index[word] = i\n",
    "            vocab.append(word)\n",
    "            i += 1\n",
    "        else:\n",
    "            W[i] = np.random.uniform(-0.25,0.25,D)\n",
    "            vocab2index[word] = i\n",
    "            vocab.append(word)\n",
    "            i += 1   \n",
    "    return W, np.array(vocab), vocab2index"
   ]
  },
  {
   "cell_type": "code",
   "execution_count": 167,
   "metadata": {},
   "outputs": [
    {
     "name": "stdout",
     "output_type": "stream",
     "text": [
      "[]\n"
     ]
    }
   ],
   "source": [
    "pretrained_weight, vocab, vocab2index = create_embedding_matrix(word_vecs, data_vocab)"
   ]
  },
  {
   "cell_type": "code",
   "execution_count": 168,
   "metadata": {},
   "outputs": [
    {
     "data": {
      "text/plain": [
       "18311"
      ]
     },
     "execution_count": 168,
     "metadata": {},
     "output_type": "execute_result"
    }
   ],
   "source": [
    "len(pretrained_weight) # note that index 0 is for padding"
   ]
  },
  {
   "cell_type": "code",
   "execution_count": 169,
   "metadata": {},
   "outputs": [
    {
     "data": {
      "text/plain": [
       "tensor([[ 0.0000,  0.0000,  0.0000,  ...,  0.0000,  0.0000,  0.0000],\n",
       "        [-0.1108, -0.0502,  0.1493,  ..., -0.2310, -0.1393, -0.0501],\n",
       "        [-0.0977, -0.5308, -0.2896,  ...,  0.4010, -0.1188,  0.1739],\n",
       "        ...,\n",
       "        [-0.3170, -0.4958,  0.3020,  ..., -0.1990,  0.0607, -0.1257],\n",
       "        [-0.1369, -0.0570, -0.1921,  ..., -0.2036, -0.4955, -0.2766],\n",
       "        [ 0.2028, -0.3397, -0.1055,  ...,  0.5841, -0.4893,  0.0245]])"
      ]
     },
     "execution_count": 169,
     "metadata": {},
     "output_type": "execute_result"
    }
   ],
   "source": [
    "D = 300\n",
    "V = len(pretrained_weight)\n",
    "emb = nn.Embedding(V, D)\n",
    "emb.weight.data.copy_(torch.from_numpy(pretrained_weight))"
   ]
  },
  {
   "cell_type": "markdown",
   "metadata": {},
   "source": [
    "Question: How many parameters do we have in this embedding matrix?"
   ]
  },
  {
   "cell_type": "markdown",
   "metadata": {},
   "source": [
    "## Encoding training and validation sets"
   ]
  },
  {
   "cell_type": "markdown",
   "metadata": {},
   "source": [
    "We will be using 1D Convolutional neural networks as our model. CNNs assume a fixed input size so we need to assume a fixed size and truncate or pad the sentences as needed. Let's find a good value to set our sequence length to."
   ]
  },
  {
   "cell_type": "code",
   "execution_count": 170,
   "metadata": {
    "collapsed": true
   },
   "outputs": [],
   "source": [
    "x_len = np.array([len(x.split()) for x in X_train])"
   ]
  },
  {
   "cell_type": "code",
   "execution_count": 171,
   "metadata": {},
   "outputs": [
    {
     "data": {
      "text/plain": [
       "42.0"
      ]
     },
     "execution_count": 171,
     "metadata": {},
     "output_type": "execute_result"
    }
   ],
   "source": [
    "np.percentile(x_len, 95) # let set the max sequence len to N=40"
   ]
  },
  {
   "cell_type": "code",
   "execution_count": 172,
   "metadata": {},
   "outputs": [
    {
     "data": {
      "text/plain": [
       "'will god let her fall or give her a new path \\\\?'"
      ]
     },
     "execution_count": 172,
     "metadata": {},
     "output_type": "execute_result"
    }
   ],
   "source": [
    "X_train[0]"
   ]
  },
  {
   "cell_type": "code",
   "execution_count": 173,
   "metadata": {},
   "outputs": [
    {
     "data": {
      "text/plain": [
       "9"
      ]
     },
     "execution_count": 173,
     "metadata": {},
     "output_type": "execute_result"
    }
   ],
   "source": [
    "# returns the index of the word or the index of \"UNK\" otherwise\n",
    "vocab2index.get(\"will\", vocab2index[\"UNK\"])"
   ]
  },
  {
   "cell_type": "code",
   "execution_count": 174,
   "metadata": {},
   "outputs": [
    {
     "data": {
      "text/plain": [
       "array([ 9,  2,  3, 11,  8,  5, 10, 11,  4,  7, 12,  6])"
      ]
     },
     "execution_count": 174,
     "metadata": {},
     "output_type": "execute_result"
    }
   ],
   "source": [
    "np.array([vocab2index.get(w, vocab2index[\"UNK\"]) for w in X_train[0].split()])"
   ]
  },
  {
   "cell_type": "code",
   "execution_count": 175,
   "metadata": {
    "collapsed": true
   },
   "outputs": [],
   "source": [
    "def encode_sentence(s, N=40):\n",
    "    enc = np.zeros(N, dtype=np.int32)\n",
    "    enc1 = np.array([vocab2index.get(w, vocab2index[\"UNK\"]) for w in s.split()])\n",
    "    l = min(N, len(enc1))\n",
    "    enc[:l] = enc1[:l]\n",
    "    return enc"
   ]
  },
  {
   "cell_type": "code",
   "execution_count": 176,
   "metadata": {},
   "outputs": [
    {
     "data": {
      "text/plain": [
       "array([ 9,  2,  3, 11,  8,  5, 10, 11,  4,  7, 12,  6,  0,  0,  0,  0,  0,\n",
       "        0,  0,  0,  0,  0,  0,  0,  0,  0,  0,  0,  0,  0,  0,  0,  0,  0,\n",
       "        0,  0,  0,  0,  0,  0], dtype=int32)"
      ]
     },
     "execution_count": 176,
     "metadata": {},
     "output_type": "execute_result"
    }
   ],
   "source": [
    "encode_sentence(X_train[0])"
   ]
  },
  {
   "cell_type": "code",
   "execution_count": 177,
   "metadata": {},
   "outputs": [
    {
     "data": {
      "text/plain": [
       "(8000, 40)"
      ]
     },
     "execution_count": 177,
     "metadata": {},
     "output_type": "execute_result"
    }
   ],
   "source": [
    "x_train = np.vstack([encode_sentence(x) for x in X_train])\n",
    "x_train.shape"
   ]
  },
  {
   "cell_type": "code",
   "execution_count": 178,
   "metadata": {},
   "outputs": [
    {
     "data": {
      "text/plain": [
       "(2000, 40)"
      ]
     },
     "execution_count": 178,
     "metadata": {},
     "output_type": "execute_result"
    }
   ],
   "source": [
    "x_test = np.vstack([encode_sentence(x) for x in X_test])\n",
    "x_test.shape"
   ]
  },
  {
   "cell_type": "markdown",
   "metadata": {},
   "source": [
    "## Playing and debugging CNN layers"
   ]
  },
  {
   "cell_type": "code",
   "execution_count": 179,
   "metadata": {
    "collapsed": true
   },
   "outputs": [],
   "source": [
    "V = len(pretrained_weight)\n",
    "D = 300\n",
    "N = 40"
   ]
  },
  {
   "cell_type": "code",
   "execution_count": 180,
   "metadata": {},
   "outputs": [
    {
     "data": {
      "text/plain": [
       "tensor([[ 0.0000,  0.0000,  0.0000,  ...,  0.0000,  0.0000,  0.0000],\n",
       "        [-0.1108, -0.0502,  0.1493,  ..., -0.2310, -0.1393, -0.0501],\n",
       "        [-0.0977, -0.5308, -0.2896,  ...,  0.4010, -0.1188,  0.1739],\n",
       "        ...,\n",
       "        [-0.3170, -0.4958,  0.3020,  ..., -0.1990,  0.0607, -0.1257],\n",
       "        [-0.1369, -0.0570, -0.1921,  ..., -0.2036, -0.4955, -0.2766],\n",
       "        [ 0.2028, -0.3397, -0.1055,  ...,  0.5841, -0.4893,  0.0245]])"
      ]
     },
     "execution_count": 180,
     "metadata": {},
     "output_type": "execute_result"
    }
   ],
   "source": [
    "emb = nn.Embedding(V, D)\n",
    "emb.weight.data.copy_(torch.from_numpy(pretrained_weight))"
   ]
  },
  {
   "cell_type": "code",
   "execution_count": 181,
   "metadata": {},
   "outputs": [
    {
     "data": {
      "text/plain": [
       "(2, 40)"
      ]
     },
     "execution_count": 181,
     "metadata": {},
     "output_type": "execute_result"
    }
   ],
   "source": [
    "x = x_train[:2]\n",
    "x.shape"
   ]
  },
  {
   "cell_type": "code",
   "execution_count": 182,
   "metadata": {},
   "outputs": [
    {
     "data": {
      "text/plain": [
       "tensor([[  9,   2,   3,  11,   8,   5,  10,  11,   4,   7,  12,   6,\n",
       "           0,   0,   0,   0,   0,   0,   0,   0,   0,   0,   0,   0,\n",
       "           0,   0,   0,   0,   0,   0,   0,   0,   0,   0,   0,   0,\n",
       "           0,   0,   0,   0],\n",
       "        [ 21,  23,  24,  27,  36,  14,  13,  19,  32,  35,  33,  22,\n",
       "          25,  31,  16,  13,  28,  15,  26,  30,  34,  17,  20,  29,\n",
       "          18,   0,   0,   0,   0,   0,   0,   0,   0,   0,   0,   0,\n",
       "           0,   0,   0,   0]])"
      ]
     },
     "execution_count": 182,
     "metadata": {},
     "output_type": "execute_result"
    }
   ],
   "source": [
    "x = torch.LongTensor(x)\n",
    "x"
   ]
  },
  {
   "cell_type": "code",
   "execution_count": 183,
   "metadata": {},
   "outputs": [
    {
     "data": {
      "text/plain": [
       "torch.Size([2, 40, 300])"
      ]
     },
     "execution_count": 183,
     "metadata": {},
     "output_type": "execute_result"
    }
   ],
   "source": [
    "x1 = emb(x)\n",
    "x1.shape"
   ]
  },
  {
   "cell_type": "code",
   "execution_count": 184,
   "metadata": {},
   "outputs": [
    {
     "data": {
      "text/plain": [
       "torch.Size([2, 300, 40])"
      ]
     },
     "execution_count": 184,
     "metadata": {},
     "output_type": "execute_result"
    }
   ],
   "source": [
    "x1 = x1.transpose(1,2)  # needs to convert x to (batch, embedding_dim, sentence_len)\n",
    "x1.size()"
   ]
  },
  {
   "cell_type": "code",
   "execution_count": 185,
   "metadata": {
    "collapsed": true
   },
   "outputs": [],
   "source": [
    "conv_3 = nn.Conv1d(in_channels=D, out_channels=100, kernel_size=3)"
   ]
  },
  {
   "cell_type": "code",
   "execution_count": 186,
   "metadata": {
    "collapsed": true
   },
   "outputs": [],
   "source": [
    "x3 = conv_3(x1)"
   ]
  },
  {
   "cell_type": "code",
   "execution_count": 187,
   "metadata": {},
   "outputs": [
    {
     "data": {
      "text/plain": [
       "torch.Size([2, 100, 38])"
      ]
     },
     "execution_count": 187,
     "metadata": {},
     "output_type": "execute_result"
    }
   ],
   "source": [
    "x3.size()"
   ]
  },
  {
   "cell_type": "code",
   "execution_count": 188,
   "metadata": {
    "collapsed": true
   },
   "outputs": [],
   "source": [
    "conv_4 = nn.Conv1d(in_channels=D, out_channels=100, kernel_size=4)\n",
    "conv_5 = nn.Conv1d(in_channels=D, out_channels=100, kernel_size=5)"
   ]
  },
  {
   "cell_type": "code",
   "execution_count": 189,
   "metadata": {},
   "outputs": [
    {
     "name": "stdout",
     "output_type": "stream",
     "text": [
      "torch.Size([2, 100, 37]) torch.Size([2, 100, 36])\n"
     ]
    }
   ],
   "source": [
    "x4 = conv_4(x1)\n",
    "x5 = conv_5(x1)\n",
    "print(x4.size(), x5.size())"
   ]
  },
  {
   "cell_type": "markdown",
   "metadata": {},
   "source": [
    "Note that the convolution all apply to the same `x1`. How do we combine now the results of the convolutions? "
   ]
  },
  {
   "cell_type": "code",
   "execution_count": 190,
   "metadata": {},
   "outputs": [
    {
     "data": {
      "text/plain": [
       "torch.Size([2, 100, 1])"
      ]
     },
     "execution_count": 190,
     "metadata": {},
     "output_type": "execute_result"
    }
   ],
   "source": [
    "# 100 3-gram detectors\n",
    "x3 = nn.ReLU()(x3)\n",
    "x3 = nn.MaxPool1d(kernel_size = 38)(x3)\n",
    "x3.size()"
   ]
  },
  {
   "cell_type": "code",
   "execution_count": 191,
   "metadata": {},
   "outputs": [
    {
     "data": {
      "text/plain": [
       "torch.Size([2, 100, 1])"
      ]
     },
     "execution_count": 191,
     "metadata": {},
     "output_type": "execute_result"
    }
   ],
   "source": [
    "# 100 4-gram detectors\n",
    "x4 = nn.ReLU()(x4)\n",
    "x4 = nn.MaxPool1d(kernel_size = 37)(x4)\n",
    "x4.size()"
   ]
  },
  {
   "cell_type": "code",
   "execution_count": 192,
   "metadata": {},
   "outputs": [
    {
     "data": {
      "text/plain": [
       "torch.Size([2, 100, 1])"
      ]
     },
     "execution_count": 192,
     "metadata": {},
     "output_type": "execute_result"
    }
   ],
   "source": [
    "# 100 5-gram detectors\n",
    "x5 = nn.ReLU()(x5)\n",
    "x5 = nn.MaxPool1d(kernel_size = 36)(x5)\n",
    "x5.size()"
   ]
  },
  {
   "cell_type": "code",
   "execution_count": 193,
   "metadata": {},
   "outputs": [
    {
     "data": {
      "text/plain": [
       "torch.Size([2, 100, 3])"
      ]
     },
     "execution_count": 193,
     "metadata": {},
     "output_type": "execute_result"
    }
   ],
   "source": [
    "# concatenate x3, x4, x5\n",
    "out = torch.cat([x3, x4, x5], 2)\n",
    "out.size()"
   ]
  },
  {
   "cell_type": "code",
   "execution_count": 194,
   "metadata": {},
   "outputs": [
    {
     "data": {
      "text/plain": [
       "torch.Size([2, 300])"
      ]
     },
     "execution_count": 194,
     "metadata": {},
     "output_type": "execute_result"
    }
   ],
   "source": [
    "out = out.view(out.size(0), -1)\n",
    "out.size()"
   ]
  },
  {
   "cell_type": "markdown",
   "metadata": {},
   "source": [
    "After this we have a fully connected network. Let's write a network that implements this."
   ]
  },
  {
   "cell_type": "markdown",
   "metadata": {},
   "source": [
    "## 1D CNN model for sentence classification"
   ]
  },
  {
   "cell_type": "markdown",
   "metadata": {},
   "source": [
    "Notation:\n",
    "* V -- vocabulary size\n",
    "* D -- embedding size\n",
    "* N -- MAX Sentence length"
   ]
  },
  {
   "cell_type": "code",
   "execution_count": 195,
   "metadata": {
    "collapsed": true
   },
   "outputs": [],
   "source": [
    "class SentenceCNN(nn.Module):\n",
    "    \n",
    "    def __init__(self, V, D, glove_weights):\n",
    "        super(SentenceCNN, self).__init__()\n",
    "        self.glove_weights = glove_weights\n",
    "        self.embedding = nn.Embedding(V, D, padding_idx=0)\n",
    "        self.embedding.weight.data.copy_(torch.from_numpy(self.glove_weights))\n",
    "        self.embedding.weight.requires_grad = False ## freeze embeddings\n",
    "\n",
    "        self.conv_3 = nn.Conv1d(in_channels=D, out_channels=100, kernel_size=3)\n",
    "        self.conv_4 = nn.Conv1d(in_channels=D, out_channels=100, kernel_size=4)\n",
    "        self.conv_5 = nn.Conv1d(in_channels=D, out_channels=100, kernel_size=5)\n",
    "        \n",
    "        self.dropout = nn.Dropout(p=0.5)\n",
    "        self.fc = nn.Linear(300, 1)\n",
    "        \n",
    "    def forward(self, x):\n",
    "        x = self.embedding(x)\n",
    "        x = x.transpose(1,2)\n",
    "        x3 = F.relu(self.conv_3(x))\n",
    "        x4 = F.relu(self.conv_4(x))\n",
    "        x5 = F.relu(self.conv_5(x))\n",
    "        x3 = nn.MaxPool1d(kernel_size = 38)(x3)\n",
    "        x4 = nn.MaxPool1d(kernel_size = 37)(x4)\n",
    "        x5 = nn.MaxPool1d(kernel_size = 36)(x5)\n",
    "        out = torch.cat([x3, x4, x5], 2)\n",
    "        out = out.view(out.size(0), -1)\n",
    "        out = self.dropout(out)\n",
    "        return self.fc(out)   "
   ]
  },
  {
   "cell_type": "code",
   "execution_count": 196,
   "metadata": {
    "collapsed": true
   },
   "outputs": [],
   "source": [
    "V = len(pretrained_weight)\n",
    "D = 300\n",
    "N = 40\n",
    "model = SentenceCNN(V, D, glove_weights=pretrained_weight)"
   ]
  },
  {
   "cell_type": "code",
   "execution_count": 197,
   "metadata": {},
   "outputs": [
    {
     "name": "stdout",
     "output_type": "stream",
     "text": [
      "(10, 40)\n"
     ]
    }
   ],
   "source": [
    "# testing the model\n",
    "x = x_train[:10]\n",
    "print(x.shape)\n",
    "x = torch.LongTensor(x)"
   ]
  },
  {
   "cell_type": "code",
   "execution_count": 198,
   "metadata": {},
   "outputs": [
    {
     "data": {
      "text/plain": [
       "torch.Size([10, 1])"
      ]
     },
     "execution_count": 198,
     "metadata": {},
     "output_type": "execute_result"
    }
   ],
   "source": [
    "y_hat = model(x)\n",
    "y_hat.size()"
   ]
  },
  {
   "cell_type": "markdown",
   "metadata": {},
   "source": [
    "## Training"
   ]
  },
  {
   "cell_type": "markdown",
   "metadata": {},
   "source": [
    "Note that I am not bodering with mini-batches since our dataset is small."
   ]
  },
  {
   "cell_type": "code",
   "execution_count": 199,
   "metadata": {
    "collapsed": true
   },
   "outputs": [],
   "source": [
    "#def train(model, x_train, y_train):\n",
    "model = SentenceCNN(V, D, glove_weights=pretrained_weight) #.cuda()"
   ]
  },
  {
   "cell_type": "code",
   "execution_count": 200,
   "metadata": {},
   "outputs": [
    {
     "name": "stdout",
     "output_type": "stream",
     "text": [
      "test loss 0.696 and accuracy 0.491\n"
     ]
    }
   ],
   "source": [
    "# accuracy of a random model should be around 0.5\n",
    "test_metrics(model)"
   ]
  },
  {
   "cell_type": "code",
   "execution_count": 201,
   "metadata": {
    "collapsed": true
   },
   "outputs": [],
   "source": [
    "# this filters parameters with p.requires_grad=True\n",
    "parameters = filter(lambda p: p.requires_grad, model.parameters())\n",
    "optimizer = torch.optim.Adam(parameters, lr=0.01)"
   ]
  },
  {
   "cell_type": "code",
   "execution_count": 202,
   "metadata": {
    "collapsed": true
   },
   "outputs": [],
   "source": [
    "def train_epocs(model, epochs=10, lr=0.01):\n",
    "    parameters = filter(lambda p: p.requires_grad, model.parameters())\n",
    "    optimizer = torch.optim.Adam(parameters, lr=lr)\n",
    "    model.train()\n",
    "    for i in range(epochs):\n",
    "        x = torch.LongTensor(x_train)  #.cuda()\n",
    "        y = torch.Tensor(y_train).unsqueeze(1)\n",
    "        y_hat = model(x)\n",
    "        loss = F.binary_cross_entropy_with_logits(y_hat, y)\n",
    "        optimizer.zero_grad()\n",
    "        loss.backward()\n",
    "        optimizer.step()\n",
    "        print(loss.item())\n",
    "    test_metrics(model)"
   ]
  },
  {
   "cell_type": "code",
   "execution_count": 203,
   "metadata": {
    "collapsed": true
   },
   "outputs": [],
   "source": [
    "def test_metrics(m):\n",
    "    model.eval()\n",
    "    x = torch.LongTensor(x_test) #.cuda()\n",
    "    y = torch.Tensor(y_test).unsqueeze(1) #).cuda()\n",
    "    y_hat = m(x)\n",
    "    loss = F.binary_cross_entropy_with_logits(y_hat, y)\n",
    "    y_pred = y_hat > 0\n",
    "    correct = (y_pred.float() == y).float().sum()\n",
    "    accuracy = correct/y_pred.shape[0]\n",
    "    print(\"test loss %.3f and accuracy %.3f\" % (loss.item(), accuracy.item()))"
   ]
  },
  {
   "cell_type": "code",
   "execution_count": 204,
   "metadata": {},
   "outputs": [
    {
     "name": "stdout",
     "output_type": "stream",
     "text": [
      "0.6991532444953918\n",
      "0.6992024779319763\n",
      "0.602451503276825\n",
      "0.46649008989334106\n",
      "0.33072641491889954\n",
      "0.36808934807777405\n",
      "0.3891832232475281\n",
      "0.3483543395996094\n",
      "0.3032780587673187\n",
      "0.2869540750980377\n",
      "test loss 0.338 and accuracy 0.856\n"
     ]
    }
   ],
   "source": [
    "train_epocs(model, epochs=10, lr=0.005)"
   ]
  },
  {
   "cell_type": "code",
   "execution_count": 205,
   "metadata": {},
   "outputs": [
    {
     "name": "stdout",
     "output_type": "stream",
     "text": [
      "0.3003513514995575\n",
      "0.27605175971984863\n",
      "0.2787013053894043\n",
      "0.27200281620025635\n",
      "0.261476069688797\n",
      "0.25204193592071533\n",
      "0.24486103653907776\n",
      "0.24786874651908875\n",
      "0.2393726259469986\n",
      "0.23336873948574066\n",
      "test loss 0.272 and accuracy 0.887\n"
     ]
    }
   ],
   "source": [
    "train_epocs(model, epochs=10, lr=0.001)"
   ]
  },
  {
   "cell_type": "code",
   "execution_count": 206,
   "metadata": {},
   "outputs": [
    {
     "name": "stdout",
     "output_type": "stream",
     "text": [
      "0.22530794143676758\n",
      "0.2191014289855957\n",
      "0.21357125043869019\n",
      "0.20763124525547028\n",
      "0.20216995477676392\n",
      "0.1929493546485901\n",
      "0.18928399682044983\n",
      "0.1845645010471344\n",
      "0.1774616539478302\n",
      "0.1737787425518036\n",
      "test loss 0.243 and accuracy 0.901\n"
     ]
    }
   ],
   "source": [
    "train_epocs(model, epochs=10, lr=0.001)"
   ]
  },
  {
   "cell_type": "code",
   "execution_count": 207,
   "metadata": {},
   "outputs": [
    {
     "name": "stdout",
     "output_type": "stream",
     "text": [
      "[torch.Size([100, 300, 3]), torch.Size([100]), torch.Size([100, 300, 4]), torch.Size([100]), torch.Size([100, 300, 5]), torch.Size([100]), torch.Size([1, 300]), torch.Size([1])]\n"
     ]
    }
   ],
   "source": [
    "# how to figure out the parameters\n",
    "parameters = filter(lambda p: p.requires_grad, model.parameters())\n",
    "print([p.size() for p in parameters])"
   ]
  },
  {
   "cell_type": "markdown",
   "metadata": {},
   "source": [
    "### Unfreezing the embeddings"
   ]
  },
  {
   "cell_type": "code",
   "execution_count": 208,
   "metadata": {
    "collapsed": true
   },
   "outputs": [],
   "source": [
    "# unfreezing the embeddings\n",
    "model.embedding.weight.requires_grad = True"
   ]
  },
  {
   "cell_type": "code",
   "execution_count": 209,
   "metadata": {},
   "outputs": [
    {
     "name": "stdout",
     "output_type": "stream",
     "text": [
      "[torch.Size([18311, 300]), torch.Size([100, 300, 3]), torch.Size([100]), torch.Size([100, 300, 4]), torch.Size([100]), torch.Size([100, 300, 5]), torch.Size([100]), torch.Size([1, 300]), torch.Size([1])]\n"
     ]
    }
   ],
   "source": [
    "parameters = filter(lambda p: p.requires_grad, model.parameters())\n",
    "print([p.size() for p in parameters])"
   ]
  },
  {
   "cell_type": "code",
   "execution_count": 210,
   "metadata": {},
   "outputs": [
    {
     "name": "stdout",
     "output_type": "stream",
     "text": [
      "0.17019180953502655\n",
      "0.15832334756851196\n",
      "0.15441004931926727\n",
      "0.1428917497396469\n",
      "0.13642971217632294\n",
      "0.12547792494297028\n",
      "0.11840137094259262\n",
      "0.11249307543039322\n",
      "0.10614679753780365\n",
      "0.09706176072359085\n",
      "test loss 0.226 and accuracy 0.911\n"
     ]
    }
   ],
   "source": [
    "train_epocs(model, epochs=10, lr=0.001)"
   ]
  },
  {
   "cell_type": "code",
   "execution_count": 211,
   "metadata": {},
   "outputs": [
    {
     "name": "stdout",
     "output_type": "stream",
     "text": [
      "0.09290824830532074\n",
      "0.09156185388565063\n",
      "0.09017505496740341\n",
      "0.08888236433267593\n",
      "0.08978015184402466\n",
      "0.08727621287107468\n",
      "0.08780866116285324\n",
      "0.08726095408201218\n",
      "0.08822084963321686\n",
      "0.0855197012424469\n",
      "test loss 0.222 and accuracy 0.911\n"
     ]
    }
   ],
   "source": [
    "train_epocs(model, epochs=10, lr=0.0001)"
   ]
  },
  {
   "cell_type": "markdown",
   "metadata": {},
   "source": [
    "## Lab "
   ]
  },
  {
   "cell_type": "markdown",
   "metadata": {},
   "source": [
    "* Improve tokenization\n",
    "* Use fasttext instead of globe model. (https://fasttext.cc/docs/en/english-vectors.html)\n",
    "\n",
    "   `! pip install git+https://github.com/facebookresearch/fastText.git`\n",
    "* Extend this code to do cross-validation. Look at https://github.com/yoonkim/CNN_sentence/blob/master/process_data.py for an example on how to do it."
   ]
  },
  {
   "cell_type": "markdown",
   "metadata": {},
   "source": [
    "## References"
   ]
  },
  {
   "cell_type": "markdown",
   "metadata": {},
   "source": [
    "The CNN is adapted from here https://github.com/junwang4/CNN-sentence-classification-pytorch-2017/blob/master/cnn_pytorch.py.\n",
    "Code for the original paper can be found here https://github.com/yoonkim/CNN_sentence/blob/master/process_data.py."
   ]
  },
  {
   "cell_type": "code",
   "execution_count": null,
   "metadata": {
    "collapsed": true
   },
   "outputs": [],
   "source": []
  }
 ],
 "metadata": {
  "kernelspec": {
   "display_name": "Python 3",
   "language": "python",
   "name": "python3"
  },
  "language_info": {
   "codemirror_mode": {
    "name": "ipython",
    "version": 3
   },
   "file_extension": ".py",
   "mimetype": "text/x-python",
   "name": "python",
   "nbconvert_exporter": "python",
   "pygments_lexer": "ipython3",
   "version": "3.6.5"
  },
  "toc": {
   "nav_menu": {},
   "number_sections": true,
   "sideBar": true,
   "skip_h1_title": false,
   "toc_cell": false,
   "toc_position": {},
   "toc_section_display": "block",
   "toc_window_display": false
  }
 },
 "nbformat": 4,
 "nbformat_minor": 2
}
